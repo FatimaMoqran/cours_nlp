{
 "cells": [
  {
   "cell_type": "markdown",
   "metadata": {},
   "source": [
    "### Aujourd'hui, nous allons scrapper Producthunt avec Selenium\n",
    "\n",
    "Selenium est un outil crée initialement pour automatiser des test sur des sites web. Il est donc bien utile lorsque des informations sont accesibles en cliquant sur des liens. Un boutton par exemple est un élement sur lequel il tres diffcile d'obtenir le lien. Beautifull soup devient alors limité.\n",
    "Dans ce cas, utilisez Selenium"
   ]
  },
  {
   "cell_type": "markdown",
   "metadata": {},
   "source": [
    "### Charger les librairies"
   ]
  },
  {
   "cell_type": "code",
   "execution_count": 1,
   "metadata": {},
   "outputs": [],
   "source": [
    "import bs4\n",
    "import requests\n",
    "from bs4 import BeautifulSoup\n",
    "import numpy as np\n",
    "import pandas as pd\n",
    "import json\n",
    "import re\n",
    "import lxml.html\n",
    "import time\n",
    "import random\n",
    "from random import randint\n",
    "import logging\n",
    "import collections\n",
    "from time import gmtime, strftime\n",
    "\n",
    "import re\n",
    "from tabulate import tabulate\n",
    "import os\n",
    "date=strftime(\"%Y-%m-%d\")\n"
   ]
  },
  {
   "cell_type": "markdown",
   "metadata": {},
   "source": [
    "### Installer Selenium en suivant cette notice\n",
    "\n",
    "https://selenium-python.readthedocs.io/installation.html#downloading-python-bindings-for-selenium/bin\n",
    "\n",
    "nb: Linux : mettez votre geckodriver (l'extension telechargé) dans le chemin equivalent chez vous à /home/david/.local/bin"
   ]
  },
  {
   "cell_type": "markdown",
   "metadata": {},
   "source": [
    "Nous allons simuler une recherche sur le site officiel de Phython"
   ]
  },
  {
   "cell_type": "code",
   "execution_count": 2,
   "metadata": {},
   "outputs": [],
   "source": [
    "import selenium\n",
    "\n",
    "# Le module selenium.webdriver fournit toutes les implémentations de WebDriver. Les implémentations WebDriver \n",
    "# actuellement prises en charge sont Firefox, Chrome, IE et Remote. La classe Keys fournit des touches dans \n",
    "# le clavier telles que RETURN, F1, ALT etc.\n",
    "from selenium import webdriver\n",
    "from selenium.webdriver.common.keys import Keys\n",
    "# Ensuite, l'instance de Firefox WebDriver est créée.\n",
    "driver = webdriver.Firefox()\n",
    "# La méthode driver.get mènera à une page donnée par l'URL. WebDriver attendra que la page soit complètement \n",
    "# chargée (c'est-à-dire que l'événement “onload” s'est déclenché) avant de rendre le contrôle à votre script. \n",
    "# Il est à noter que si votre page utilise beaucoup d'AJAX au chargement, WebDriver peut ne pas savoir \n",
    "# quand il s'est complètement chargé:\n",
    "driver.get(\"http://www.python.org\")\n",
    "# La ligne suivante est une affirmation confirmant que le titre contient le mot «Python»\n",
    "assert \"Python\" in driver.title\n",
    "# WebDriver propose plusieurs méthodes pour rechercher des éléments à l'aide de l'une des méthodes \n",
    "# find_element_by_ * . Par exemple, l'élément de texte d'entrée peut être localisé par son attribut name en \n",
    "# utilisant la méthode find_element_by_name. Il existe plusieurs autres methodes pour rechercher sa balise.\n",
    "elem = driver.find_element_by_name(\"q\")\n",
    "# Ensuite, nous envoyons des clés. C’est similaire à la saisie de touches à l’aide de votre clavier. \n",
    "# Des clés spéciales peuvent être envoyées à l'aide de la classe Keys importée de selenium.webdriver.common.keys . \n",
    "# Pour des raisons de sécurité, nous effacerons tout texte pré-rempli dans le champ de saisie \n",
    "# (par exemple, «Rechercher») afin que cela n'affecte pas nos résultats de recherche:\n",
    "\n",
    "\n",
    "elem.clear()\n",
    "elem.send_keys(\"pycon\")\n",
    "elem.send_keys(Keys.RETURN)\n",
    "\n",
    "#Après soumission de la page, vous devriez obtenir le résultat s'il y en a. Pour vous assurer que certains résultats \n",
    "# sont trouvés, faites une assertion:\n",
    "assert \"No results found.\" not in driver.page_source\n",
    "driver.close()"
   ]
  },
  {
   "cell_type": "markdown",
   "metadata": {},
   "source": [
    "#### Ouvre le code source de cette page (HTML) et verifier que la zone de recherche (le champ) s'appelle bien \"q\"\n",
    "\n",
    "input id=\"id-search-field\" name=\"q\" type=\"search\" role=\"textbox\" class=\"search-field placeholder\" placeholder=\"Search\" value=\"\" tabindex=\"1\""
   ]
  },
  {
   "cell_type": "code",
   "execution_count": null,
   "metadata": {},
   "outputs": [],
   "source": []
  },
  {
   "cell_type": "markdown",
   "metadata": {},
   "source": [
    "### Recuperer un numéro de telephone sur une annonce du bon coin"
   ]
  },
  {
   "cell_type": "markdown",
   "metadata": {},
   "source": [
    "#### Exemple"
   ]
  },
  {
   "cell_type": "code",
   "execution_count": 4,
   "metadata": {},
   "outputs": [
    {
     "ename": "IndexError",
     "evalue": "list index out of range",
     "output_type": "error",
     "traceback": [
      "\u001b[0;31m---------------------------------------------------------------------------\u001b[0m",
      "\u001b[0;31mIndexError\u001b[0m                                Traceback (most recent call last)",
      "\u001b[0;32m<ipython-input-4-a834c42d35a3>\u001b[0m in \u001b[0;36m<module>\u001b[0;34m()\u001b[0m\n\u001b[1;32m     12\u001b[0m \u001b[0;34m\u001b[0m\u001b[0m\n\u001b[1;32m     13\u001b[0m \u001b[0;34m\u001b[0m\u001b[0m\n\u001b[0;32m---> 14\u001b[0;31m \u001b[0mpython_button\u001b[0m \u001b[0;34m=\u001b[0m \u001b[0mdriver\u001b[0m\u001b[0;34m.\u001b[0m\u001b[0mfind_elements_by_xpath\u001b[0m\u001b[0;34m(\u001b[0m\u001b[0;34m'//div[@data-reactid=\"307\"]'\u001b[0m\u001b[0;34m)\u001b[0m\u001b[0;34m[\u001b[0m\u001b[0;36m0\u001b[0m\u001b[0;34m]\u001b[0m\u001b[0;34m\u001b[0m\u001b[0m\n\u001b[0m\u001b[1;32m     15\u001b[0m \u001b[0mpython_button\u001b[0m\u001b[0;34m.\u001b[0m\u001b[0mclick\u001b[0m\u001b[0;34m(\u001b[0m\u001b[0;34m)\u001b[0m\u001b[0;34m\u001b[0m\u001b[0m\n\u001b[1;32m     16\u001b[0m \u001b[0;34m\u001b[0m\u001b[0m\n",
      "\u001b[0;31mIndexError\u001b[0m: list index out of range"
     ]
    }
   ],
   "source": [
    "from selenium import webdriver\n",
    "from selenium.webdriver.support.ui import WebDriverWait\n",
    "from selenium.webdriver.support import expected_conditions as EC\n",
    "from selenium.common.exceptions import TimeoutException\n",
    "from selenium.webdriver.common.by import By\n",
    "\n",
    "url='https://www.leboncoin.fr/sports_hobbies/1536839557.htm/'\n",
    "\n",
    "driver = webdriver.Firefox()\n",
    "driver.implicitly_wait(30)\n",
    "driver.get(url)\n",
    "\n",
    "\n",
    "python_button = driver.find_elements_by_xpath('//div[@data-reactid=\"307\"]')[0]\n",
    "python_button.click()\n",
    "\n",
    "# Et après, c'est comme avec Beautiful soup\n",
    "soup=BeautifulSoup(driver.page_source)\n",
    "\n",
    "driver.close()\n",
    "\n",
    "# Et après, c'est comme avec Beautiful soup\n",
    "for elem in soup.find_all('a',attrs={\"data-qa-id\" :\"adview_number_phone_contact\" }):\n",
    "    print(elem.text)"
   ]
  },
  {
   "cell_type": "markdown",
   "metadata": {},
   "source": [
    "### En partant d'une annonce du bon coin, recuperer tous les éléments dicponibles permettant de bien définir le produit mis en vente. Utilisez selenium pour le numéro de telephone"
   ]
  },
  {
   "cell_type": "code",
   "execution_count": null,
   "metadata": {},
   "outputs": [],
   "source": []
  },
  {
   "cell_type": "markdown",
   "metadata": {},
   "source": [
    "### API (Application Program Interface)"
   ]
  },
  {
   "cell_type": "markdown",
   "metadata": {},
   "source": [
    "Enesemble d'outils et de méthodes qui autorisent différentes applications àinteragir entre elles. Dans le cas d'un web service, nous pouvons y récupérer de la data dynamiquement. En utilisant correctemen une API, nous pouvons ainsi otenire en temps réel, les modifications apportées sur un site \"mère\".\n",
    "\n",
    "Par exemple, nous allons récupérer des news en ligne, par exemple celles du site \"L'equipe\""
   ]
  },
  {
   "cell_type": "markdown",
   "metadata": {},
   "source": [
    "Suivez les directives de https://newsapi.org/s/lequipe-api pour récupérer une cle de connexion \"API key\""
   ]
  },
  {
   "cell_type": "markdown",
   "metadata": {},
   "source": [
    "Your API key is: 73bbb95f8ecb49b499113a46481b4af1\n",
    "\n",
    "\n",
    "nb: Il est fréquent qu'une clé ne fonctionne au bout de quelques temps 5mins 30 mins 1 j ...\n",
    "Donc ne sautez pas en l'air s'il on vous renvoi un message d'erreur."
   ]
  },
  {
   "cell_type": "code",
   "execution_count": 101,
   "metadata": {
    "scrolled": true
   },
   "outputs": [
    {
     "name": "stdout",
     "output_type": "stream",
     "text": [
      "{'status': 'ok', 'totalResults': 10, 'articles': [{'source': {'id': 'lequipe', 'name': \"L'equipe\"}, 'author': \"L'EQUIPE\", 'title': 'Real Madrid : Gareth Bale met fin à sa disette d&#039;une belle reprise de volée face à Huesca (vidéo)', 'description': \"L'attaquant du Real Madrid Gareth Bale a mis fin ce dimance à sa disette en Liga en ouvrant le score face à Huesca d'une belle reprise.\", 'url': 'https://www.lequipe.fr/Football/Actualites/Real-madrid-gareth-bale-met-fin-a-sa-disette-d-une-belle-reprise-de-volee-face-a-huesca-video/966796', 'urlToImage': 'https://medias.lequipe.fr/img-photo-jpg/-oscar-j-barroso-oscar-j-barroso-afp7/1500000001061170/0:0,2000:1333-624-416-75/cb91a.jpg', 'publishedAt': '2018-12-09T16:02:00+00:00', 'content': \"801 minutes. C'est le temps de jeu qui séparait le dernier but de Gareth Bale en Liga de celui qu'il a inscrit ce dimanche en ouvrant le score sur le terrain d'Huesca. Le Gallois a repris de belle manière un centre d'Odriozola pour mettre fin à sa disette (8e… [+1 chars]\"}, {'source': {'id': 'lequipe', 'name': \"L'equipe\"}, 'author': \"L'EQUIPE\", 'title': 'Coupe du monde\\xa0: le premier relais français à la cinquième place du 4 x 7,5\\xa0km', 'description': 'Le premier relais français, composé de Jean-Marc Gaillard, Adrien Backscheider, Clément Parisse et Renaud Jay, est arrivé en 5e position du relais de 4 x 7,5\\xa0km de Beitostolen, en Norvège dimanche.', 'url': 'https://www.lequipe.fr/Ski-de-fond/Actualites/Coupe-du-monde-le-premier-relais-francais-a-la-cinquieme-place-du-4-x-7-5-km/966793', 'urlToImage': 'https://medias.lequipe.fr/img-photo-jpg/renaud-jay-etait-le-dernier-relayeur-tricolore-dimanche-a-beitostolen-presse-sport/1500000001061165/257:191,1431:974-624-416-75/c8d57.jpg', 'publishedAt': '2018-12-09T15:55:00+00:00', 'content': 'Jean-Marc Gaillard, Adrien Backscheider, Clément Parisse et Renaud Jay ont conduit le premier relais français à la cinquième place du 4 x 7,5 km de Beitostolen, en Norvège dimanche. Les Bleus ont terminé fort dans un peloton de sept équipes à la lutte pour la… [+649 chars]'}, {'source': {'id': 'lequipe', 'name': \"L'equipe\"}, 'author': \"L'EQUIPE\", 'title': 'Ligue 1 : Strasbourg et Caen se séparent dos à dos', 'description': \"Strasbourg et Caen n'ont su se départager lors de la 17e journée de L1 (2-2).\", 'url': 'https://www.lequipe.fr/Football/Actualites/Ligue-1-strasbourg-et-caen-se-separent-dos-a-dos/966792', 'urlToImage': 'https://medias.lequipe.fr/img-photo-jpg/les-deux-equipes-se-sont-separees-s-bozon-afp/1500000001061162/0:0,2000:1333-624-416-75/29ab5.jpg', 'publishedAt': '2018-12-09T15:51:00+00:00', 'content': \"Quand l'arbitre a désigné le point de penalty en faveur de Strasbourg à la 83e minute, La Meinau a exulté, croyant déjà à la promesse d'une victoire in extremis contre Caen. Olivier Thual a néanmoins pris le temps de revoir la vidéo de l'action litigieuse : S… [+981 chars]\"}, {'source': {'id': 'lequipe', 'name': \"L'equipe\"}, 'author': \"L'EQUIPE\", 'title': 'D1 féminine : Diani et le PSG tiennent la cadence de l&#039;OL', 'description': \"Après la large victoire de l'OL à Soyaux samedi (6-0), le PSG féminin a parfaitement répondu ce dimanche, en remportant le derby contre le Paris FC à Bondoufle (3-1).\", 'url': 'https://www.lequipe.fr/Football/Actualites/D1-feminine-diani-et-le-psg-tiennent-la-cadence-de-l-ol/966790', 'urlToImage': 'https://medias.lequipe.fr/img-photo-jpg/kadidiatou-diani-a-signe-un-double-salvateur-a-mounic-l-equipe/1500000001061161/0:0,2000:1333-624-416-75/f92fc.jpg', 'publishedAt': '2018-12-09T15:50:00+00:00', 'content': \"Le mano a mano entre Lyon et le PSG en tête de la D1 féminine se poursuit. Après la large victoire de l'OL sur le terrain de Soyaux samedi (6-0), avec un doublé de la Ballon d'Or France Football Ada Hegerberg, le PSG, son dauphin, a assuré ce dimanche, lors d… [+432 chars]\"}, {'source': {'id': 'lequipe', 'name': \"L'equipe\"}, 'author': \"L'EQUIPE\", 'title': 'Pro D2 (14e journée)\\xa0: Oyonnax s&#039;impose à Carcassonne', 'description': \"Oyonnax s'est imposé sur le terrain de Carcassonne (21-13), dimanche en clôture de la 14e journée de Pro D2.\", 'url': 'https://www.lequipe.fr/Rugby/Actualites/Pro-d2-14e-journee-oyonnax-s-impose-a-carcassonne/966788', 'urlToImage': 'https://medias.lequipe.fr/img-photo-jpg/quentin-etienne-a-marque-le-deuxieme-essai-d-oyonnax-face-a-carcassonne-s-thomas-l-equipe/1500000001061160/210:237,1382:1019-624-416-75/54249.jpg', 'publishedAt': '2018-12-09T15:49:00+00:00', 'content': \"Oyonnax était juste devant Carcassonne au commencement de la 14e journée de Pro D2 jeudi. Ce sont les Audois qui recevaient dimanche, mais c'est Oyonnax qui est reparti avec la victoire (21-13) et a creusé l'écart au classement avec son adversaire du jour. A … [+545 chars]\"}, {'source': {'id': 'lequipe', 'name': \"L'equipe\"}, 'author': \"L'EQUIPE\", 'title': 'Grèce : l&#039;Olympiakos freiné sur le terrain de Xanthi', 'description': \"Dauphin du PAOK Salonique, l'Olympiakos a été freiné sur le terrain de Xanthi ce dimanche, en concédant un match nul (1-1).\", 'url': 'https://www.lequipe.fr/Football/Actualites/Grece-l-olympiakos-freine-sur-le-terrain-de-xanthi/966787', 'urlToImage': 'https://medias.lequipe.fr/img-photo-jpg/fortounis-a-delivre-une-passe-decisive-presse-sports/1500000001061158/35:85,1570:1109-624-416-75/cd179.jpg', 'publishedAt': '2018-12-09T15:46:00+00:00', 'content': \"Alors que le PAOK Salonique accueille Larissa un peu plus tard ce dimanche (18h30), le leader du championnat de Grèce a vu son dauphin l'Olympiakos être accroché sur le terrain de Xanthi (1-1). Le Néerlandais Jeffrey Sarpong a ouvert le score pour les locaux … [+262 chars]\"}, {'source': {'id': 'lequipe', 'name': \"L'equipe\"}, 'author': \"L'EQUIPE\", 'title': 'Lille : Rafael Leão et Luiz Araujo titulaires contre Reims', 'description': \"L'entraîneur lillois Christophe Galtier a décidé de titulariser Rafael Leão et Luiz Araujo pour la réception de Reims (17 heures) en Ligue 1.\", 'url': 'https://www.lequipe.fr/Football/Actualites/Lille-rafael-leao-et-luiz-araujo-titulaires-contre-reims/966783', 'urlToImage': 'https://medias.lequipe.fr/img-photo-jpg/rafael-leao-est-titulaire-avec-lille-s-boue-l-equipe/1500000001061148/0:0,2000:1333-624-416-75/4d42a.jpg', 'publishedAt': '2018-12-09T15:34:00+00:00', 'content': \"Trois jours après son succès à Montpellier (1-0), Lille affronte Reims en Ligue 1 (17 heures) avec Rafael Leão à la pointe de l'attaque du 4-2-3-1. Christophe Galtier, l'entraîneur du dauphin du PSG, qui a également titularisé Luiz Araujo, a laissé sur le ban… [+384 chars]\"}, {'source': {'id': 'lequipe', 'name': \"L'equipe\"}, 'author': \"L'EQUIPE\", 'title': 'Euro 2018 : les Bleues tenues en échec par la Suède', 'description': \"Au bout d'un duel étouffant, l'équipe de France a concédé le nul face à la Suède (21-21), dimanche à Nantes, et devra impérativement l'emporter contre la Serbie mercredi pour jouer les demies.\", 'url': 'https://www.lequipe.fr/Handball/Actualites/Euro-2018-les-bleues-tenues-en-echec-par-la-suede/966781', 'urlToImage': 'https://medias.lequipe.fr/img-photo-jpg/la-france-a-bute-sur-la-defense-suedoise-e-garnier-l-equipe/1500000001061147/0:0,2000:1333-624-416-75/0610c.jpg', 'publishedAt': '2018-12-09T15:32:00+00:00', 'content': \"Avec un jour de retard en raison du mouvement des gilets jaunes, l'équipe de France est passée au révélateur suédois ce dimanche, un match piégeux face à une équipe au bord du gouffre et qui n'avait plus rien à perdre. «Ça fait quelques matches qu'on les joue… [+2473 chars]\"}, {'source': {'id': 'lequipe', 'name': \"L'equipe\"}, 'author': \"L'EQUIPE\", 'title': 'Les Rangers ratent l&#039;occasion de revenir sur le Celtic', 'description': 'Les Glasgow Rangers de Steven Gerrard ont été tenus en échec dimanche par Dundee (1-1) et restent à deux points de leurs rivaux du Celtic.', 'url': 'https://www.lequipe.fr/Football/Actualites/Les-rangers-ratent-l-occasion-de-revenir-sur-le-celtic/966780', 'urlToImage': 'https://medias.lequipe.fr/img-photo-jpg/les-rangers-de-gerrard-restent-a-deux-points-du-celtic-f-mons-l-equipe/1500000001061146/0:0,2000:1333-624-416-75/0b5cb.jpg', 'publishedAt': '2018-12-09T15:32:00+00:00', 'content': \"Les Rangers avaient l'occasion dimanche de revenir sur le Celtic. Ils n'ont pas su la saisir contre Dundee (1-1). Menés au score dès la 9e minute sur un but du vétéran Kenny Miller (38 ans), ils ont évolué à onze contre dix pendant plus d'une heure à la suite… [+250 chars]\"}, {'source': {'id': 'lequipe', 'name': \"L'equipe\"}, 'author': \"L'EQUIPE\", 'title': 'Saint-Etienne : 10 jours de repos au moins pour Neven Subotic', 'description': 'Après son traumatisme crânien contre Bordeaux, le défenseur de Saint-Étienne Neven Subotic va être au repos pendant au moins 10 jours.', 'url': 'https://www.lequipe.fr/Football/Actualites/Saint-etienne-10-jours-de-repos-au-moins-pour-neven-subotic/966777', 'urlToImage': 'https://medias.lequipe.fr/img-photo-jpg/neven-subotic-sera-au-repos-10-jours-n-luttiau-l-equipe/1500000001061138/0:0,1995:1330-624-416-75/5e952.jpg', 'publishedAt': '2018-12-09T15:18:00+00:00', 'content': \"Victime d'un traumatisme crânien mercredi à Bordeaux, Neven Subotic devra observer une période de repos de dix jours, selon un communiqué publié sur le site de Saint-Etienne, ce dimanche. Le défenseur central a été ausculté à Clermont-Ferrand par un neurologu… [+599 chars]\"}]}\n"
     ]
    }
   ],
   "source": [
    "import requests\n",
    "key='73bbb95f8ecb49b499113a46481b4af1'\n",
    "url ='https://newsapi.org/v2/top-headlines?sources=lequipe&apiKey='+key\n",
    "response = requests.get(url)\n",
    "\n",
    "# Ici le format de réponse est un fichier json, il s'utilise comme un dictionnaire\n",
    "\n",
    "print (response.json())"
   ]
  },
  {
   "cell_type": "code",
   "execution_count": 103,
   "metadata": {},
   "outputs": [
    {
     "name": "stdout",
     "output_type": "stream",
     "text": [
      "dict_keys(['status', 'totalResults', 'articles'])\n"
     ]
    }
   ],
   "source": [
    "dic=response.json()\n",
    "print(dic.keys())"
   ]
  },
  {
   "cell_type": "code",
   "execution_count": 109,
   "metadata": {
    "scrolled": true
   },
   "outputs": [
    {
     "name": "stdout",
     "output_type": "stream",
     "text": [
      "##############################################\n",
      "clé:  status // values:  ok\n",
      "##############################################\n",
      "clé:  totalResults // values:  10\n",
      "##############################################\n",
      "clé:  articles // values:  [{'source': {'id': 'lequipe', 'name': \"L'equipe\"}, 'author': \"L'EQUIPE\", 'title': 'Real Madrid : Gareth Bale met fin à sa disette d&#039;une belle reprise de volée face à Huesca (vidéo)', 'description': \"L'attaquant du Real Madrid Gareth Bale a mis fin ce dimance à sa disette en Liga en ouvrant le score face à Huesca d'une belle reprise.\", 'url': 'https://www.lequipe.fr/Football/Actualites/Real-madrid-gareth-bale-met-fin-a-sa-disette-d-une-belle-reprise-de-volee-face-a-huesca-video/966796', 'urlToImage': 'https://medias.lequipe.fr/img-photo-jpg/-oscar-j-barroso-oscar-j-barroso-afp7/1500000001061170/0:0,2000:1333-624-416-75/cb91a.jpg', 'publishedAt': '2018-12-09T16:02:00+00:00', 'content': \"801 minutes. C'est le temps de jeu qui séparait le dernier but de Gareth Bale en Liga de celui qu'il a inscrit ce dimanche en ouvrant le score sur le terrain d'Huesca. Le Gallois a repris de belle manière un centre d'Odriozola pour mettre fin à sa disette (8e… [+1 chars]\"}, {'source': {'id': 'lequipe', 'name': \"L'equipe\"}, 'author': \"L'EQUIPE\", 'title': 'Coupe du monde\\xa0: le premier relais français à la cinquième place du 4 x 7,5\\xa0km', 'description': 'Le premier relais français, composé de Jean-Marc Gaillard, Adrien Backscheider, Clément Parisse et Renaud Jay, est arrivé en 5e position du relais de 4 x 7,5\\xa0km de Beitostolen, en Norvège dimanche.', 'url': 'https://www.lequipe.fr/Ski-de-fond/Actualites/Coupe-du-monde-le-premier-relais-francais-a-la-cinquieme-place-du-4-x-7-5-km/966793', 'urlToImage': 'https://medias.lequipe.fr/img-photo-jpg/renaud-jay-etait-le-dernier-relayeur-tricolore-dimanche-a-beitostolen-presse-sport/1500000001061165/257:191,1431:974-624-416-75/c8d57.jpg', 'publishedAt': '2018-12-09T15:55:00+00:00', 'content': 'Jean-Marc Gaillard, Adrien Backscheider, Clément Parisse et Renaud Jay ont conduit le premier relais français à la cinquième place du 4 x 7,5 km de Beitostolen, en Norvège dimanche. Les Bleus ont terminé fort dans un peloton de sept équipes à la lutte pour la… [+649 chars]'}, {'source': {'id': 'lequipe', 'name': \"L'equipe\"}, 'author': \"L'EQUIPE\", 'title': 'Ligue 1 : Strasbourg et Caen se séparent dos à dos', 'description': \"Strasbourg et Caen n'ont su se départager lors de la 17e journée de L1 (2-2).\", 'url': 'https://www.lequipe.fr/Football/Actualites/Ligue-1-strasbourg-et-caen-se-separent-dos-a-dos/966792', 'urlToImage': 'https://medias.lequipe.fr/img-photo-jpg/les-deux-equipes-se-sont-separees-s-bozon-afp/1500000001061162/0:0,2000:1333-624-416-75/29ab5.jpg', 'publishedAt': '2018-12-09T15:51:00+00:00', 'content': \"Quand l'arbitre a désigné le point de penalty en faveur de Strasbourg à la 83e minute, La Meinau a exulté, croyant déjà à la promesse d'une victoire in extremis contre Caen. Olivier Thual a néanmoins pris le temps de revoir la vidéo de l'action litigieuse : S… [+981 chars]\"}, {'source': {'id': 'lequipe', 'name': \"L'equipe\"}, 'author': \"L'EQUIPE\", 'title': 'D1 féminine : Diani et le PSG tiennent la cadence de l&#039;OL', 'description': \"Après la large victoire de l'OL à Soyaux samedi (6-0), le PSG féminin a parfaitement répondu ce dimanche, en remportant le derby contre le Paris FC à Bondoufle (3-1).\", 'url': 'https://www.lequipe.fr/Football/Actualites/D1-feminine-diani-et-le-psg-tiennent-la-cadence-de-l-ol/966790', 'urlToImage': 'https://medias.lequipe.fr/img-photo-jpg/kadidiatou-diani-a-signe-un-double-salvateur-a-mounic-l-equipe/1500000001061161/0:0,2000:1333-624-416-75/f92fc.jpg', 'publishedAt': '2018-12-09T15:50:00+00:00', 'content': \"Le mano a mano entre Lyon et le PSG en tête de la D1 féminine se poursuit. Après la large victoire de l'OL sur le terrain de Soyaux samedi (6-0), avec un doublé de la Ballon d'Or France Football Ada Hegerberg, le PSG, son dauphin, a assuré ce dimanche, lors d… [+432 chars]\"}, {'source': {'id': 'lequipe', 'name': \"L'equipe\"}, 'author': \"L'EQUIPE\", 'title': 'Pro D2 (14e journée)\\xa0: Oyonnax s&#039;impose à Carcassonne', 'description': \"Oyonnax s'est imposé sur le terrain de Carcassonne (21-13), dimanche en clôture de la 14e journée de Pro D2.\", 'url': 'https://www.lequipe.fr/Rugby/Actualites/Pro-d2-14e-journee-oyonnax-s-impose-a-carcassonne/966788', 'urlToImage': 'https://medias.lequipe.fr/img-photo-jpg/quentin-etienne-a-marque-le-deuxieme-essai-d-oyonnax-face-a-carcassonne-s-thomas-l-equipe/1500000001061160/210:237,1382:1019-624-416-75/54249.jpg', 'publishedAt': '2018-12-09T15:49:00+00:00', 'content': \"Oyonnax était juste devant Carcassonne au commencement de la 14e journée de Pro D2 jeudi. Ce sont les Audois qui recevaient dimanche, mais c'est Oyonnax qui est reparti avec la victoire (21-13) et a creusé l'écart au classement avec son adversaire du jour. A … [+545 chars]\"}, {'source': {'id': 'lequipe', 'name': \"L'equipe\"}, 'author': \"L'EQUIPE\", 'title': 'Grèce : l&#039;Olympiakos freiné sur le terrain de Xanthi', 'description': \"Dauphin du PAOK Salonique, l'Olympiakos a été freiné sur le terrain de Xanthi ce dimanche, en concédant un match nul (1-1).\", 'url': 'https://www.lequipe.fr/Football/Actualites/Grece-l-olympiakos-freine-sur-le-terrain-de-xanthi/966787', 'urlToImage': 'https://medias.lequipe.fr/img-photo-jpg/fortounis-a-delivre-une-passe-decisive-presse-sports/1500000001061158/35:85,1570:1109-624-416-75/cd179.jpg', 'publishedAt': '2018-12-09T15:46:00+00:00', 'content': \"Alors que le PAOK Salonique accueille Larissa un peu plus tard ce dimanche (18h30), le leader du championnat de Grèce a vu son dauphin l'Olympiakos être accroché sur le terrain de Xanthi (1-1). Le Néerlandais Jeffrey Sarpong a ouvert le score pour les locaux … [+262 chars]\"}, {'source': {'id': 'lequipe', 'name': \"L'equipe\"}, 'author': \"L'EQUIPE\", 'title': 'Lille : Rafael Leão et Luiz Araujo titulaires contre Reims', 'description': \"L'entraîneur lillois Christophe Galtier a décidé de titulariser Rafael Leão et Luiz Araujo pour la réception de Reims (17 heures) en Ligue 1.\", 'url': 'https://www.lequipe.fr/Football/Actualites/Lille-rafael-leao-et-luiz-araujo-titulaires-contre-reims/966783', 'urlToImage': 'https://medias.lequipe.fr/img-photo-jpg/rafael-leao-est-titulaire-avec-lille-s-boue-l-equipe/1500000001061148/0:0,2000:1333-624-416-75/4d42a.jpg', 'publishedAt': '2018-12-09T15:34:00+00:00', 'content': \"Trois jours après son succès à Montpellier (1-0), Lille affronte Reims en Ligue 1 (17 heures) avec Rafael Leão à la pointe de l'attaque du 4-2-3-1. Christophe Galtier, l'entraîneur du dauphin du PSG, qui a également titularisé Luiz Araujo, a laissé sur le ban… [+384 chars]\"}, {'source': {'id': 'lequipe', 'name': \"L'equipe\"}, 'author': \"L'EQUIPE\", 'title': 'Euro 2018 : les Bleues tenues en échec par la Suède', 'description': \"Au bout d'un duel étouffant, l'équipe de France a concédé le nul face à la Suède (21-21), dimanche à Nantes, et devra impérativement l'emporter contre la Serbie mercredi pour jouer les demies.\", 'url': 'https://www.lequipe.fr/Handball/Actualites/Euro-2018-les-bleues-tenues-en-echec-par-la-suede/966781', 'urlToImage': 'https://medias.lequipe.fr/img-photo-jpg/la-france-a-bute-sur-la-defense-suedoise-e-garnier-l-equipe/1500000001061147/0:0,2000:1333-624-416-75/0610c.jpg', 'publishedAt': '2018-12-09T15:32:00+00:00', 'content': \"Avec un jour de retard en raison du mouvement des gilets jaunes, l'équipe de France est passée au révélateur suédois ce dimanche, un match piégeux face à une équipe au bord du gouffre et qui n'avait plus rien à perdre. «Ça fait quelques matches qu'on les joue… [+2473 chars]\"}, {'source': {'id': 'lequipe', 'name': \"L'equipe\"}, 'author': \"L'EQUIPE\", 'title': 'Les Rangers ratent l&#039;occasion de revenir sur le Celtic', 'description': 'Les Glasgow Rangers de Steven Gerrard ont été tenus en échec dimanche par Dundee (1-1) et restent à deux points de leurs rivaux du Celtic.', 'url': 'https://www.lequipe.fr/Football/Actualites/Les-rangers-ratent-l-occasion-de-revenir-sur-le-celtic/966780', 'urlToImage': 'https://medias.lequipe.fr/img-photo-jpg/les-rangers-de-gerrard-restent-a-deux-points-du-celtic-f-mons-l-equipe/1500000001061146/0:0,2000:1333-624-416-75/0b5cb.jpg', 'publishedAt': '2018-12-09T15:32:00+00:00', 'content': \"Les Rangers avaient l'occasion dimanche de revenir sur le Celtic. Ils n'ont pas su la saisir contre Dundee (1-1). Menés au score dès la 9e minute sur un but du vétéran Kenny Miller (38 ans), ils ont évolué à onze contre dix pendant plus d'une heure à la suite… [+250 chars]\"}, {'source': {'id': 'lequipe', 'name': \"L'equipe\"}, 'author': \"L'EQUIPE\", 'title': 'Saint-Etienne : 10 jours de repos au moins pour Neven Subotic', 'description': 'Après son traumatisme crânien contre Bordeaux, le défenseur de Saint-Étienne Neven Subotic va être au repos pendant au moins 10 jours.', 'url': 'https://www.lequipe.fr/Football/Actualites/Saint-etienne-10-jours-de-repos-au-moins-pour-neven-subotic/966777', 'urlToImage': 'https://medias.lequipe.fr/img-photo-jpg/neven-subotic-sera-au-repos-10-jours-n-luttiau-l-equipe/1500000001061138/0:0,1995:1330-624-416-75/5e952.jpg', 'publishedAt': '2018-12-09T15:18:00+00:00', 'content': \"Victime d'un traumatisme crânien mercredi à Bordeaux, Neven Subotic devra observer une période de repos de dix jours, selon un communiqué publié sur le site de Saint-Etienne, ce dimanche. Le défenseur central a été ausculté à Clermont-Ferrand par un neurologu… [+599 chars]\"}]\n"
     ]
    }
   ],
   "source": [
    "for elem in list(dic.keys()):\n",
    "    print('##############################################')\n",
    "    print(\"clé: \",elem,\"// values: \", dic[elem])"
   ]
  },
  {
   "cell_type": "code",
   "execution_count": 123,
   "metadata": {
    "scrolled": true
   },
   "outputs": [
    {
     "name": "stdout",
     "output_type": "stream",
     "text": [
      "###############################################\n",
      "(0, {'source': {'id': 'lequipe', 'name': \"L'equipe\"}, 'author': \"L'EQUIPE\", 'title': 'Real Madrid : Gareth Bale met fin à sa disette d&#039;une belle reprise de volée face à Huesca (vidéo)', 'description': \"L'attaquant du Real Madrid Gareth Bale a mis fin ce dimance à sa disette en Liga en ouvrant le score face à Huesca d'une belle reprise.\", 'url': 'https://www.lequipe.fr/Football/Actualites/Real-madrid-gareth-bale-met-fin-a-sa-disette-d-une-belle-reprise-de-volee-face-a-huesca-video/966796', 'urlToImage': 'https://medias.lequipe.fr/img-photo-jpg/-oscar-j-barroso-oscar-j-barroso-afp7/1500000001061170/0:0,2000:1333-624-416-75/cb91a.jpg', 'publishedAt': '2018-12-09T16:02:00+00:00', 'content': \"801 minutes. C'est le temps de jeu qui séparait le dernier but de Gareth Bale en Liga de celui qu'il a inscrit ce dimanche en ouvrant le score sur le terrain d'Huesca. Le Gallois a repris de belle manière un centre d'Odriozola pour mettre fin à sa disette (8e… [+1 chars]\"})\n",
      "###############################################\n",
      "(1, {'source': {'id': 'lequipe', 'name': \"L'equipe\"}, 'author': \"L'EQUIPE\", 'title': 'Coupe du monde\\xa0: le premier relais français à la cinquième place du 4 x 7,5\\xa0km', 'description': 'Le premier relais français, composé de Jean-Marc Gaillard, Adrien Backscheider, Clément Parisse et Renaud Jay, est arrivé en 5e position du relais de 4 x 7,5\\xa0km de Beitostolen, en Norvège dimanche.', 'url': 'https://www.lequipe.fr/Ski-de-fond/Actualites/Coupe-du-monde-le-premier-relais-francais-a-la-cinquieme-place-du-4-x-7-5-km/966793', 'urlToImage': 'https://medias.lequipe.fr/img-photo-jpg/renaud-jay-etait-le-dernier-relayeur-tricolore-dimanche-a-beitostolen-presse-sport/1500000001061165/257:191,1431:974-624-416-75/c8d57.jpg', 'publishedAt': '2018-12-09T15:55:00+00:00', 'content': 'Jean-Marc Gaillard, Adrien Backscheider, Clément Parisse et Renaud Jay ont conduit le premier relais français à la cinquième place du 4 x 7,5 km de Beitostolen, en Norvège dimanche. Les Bleus ont terminé fort dans un peloton de sept équipes à la lutte pour la… [+649 chars]'})\n",
      "###############################################\n",
      "(2, {'source': {'id': 'lequipe', 'name': \"L'equipe\"}, 'author': \"L'EQUIPE\", 'title': 'Ligue 1 : Strasbourg et Caen se séparent dos à dos', 'description': \"Strasbourg et Caen n'ont su se départager lors de la 17e journée de L1 (2-2).\", 'url': 'https://www.lequipe.fr/Football/Actualites/Ligue-1-strasbourg-et-caen-se-separent-dos-a-dos/966792', 'urlToImage': 'https://medias.lequipe.fr/img-photo-jpg/les-deux-equipes-se-sont-separees-s-bozon-afp/1500000001061162/0:0,2000:1333-624-416-75/29ab5.jpg', 'publishedAt': '2018-12-09T15:51:00+00:00', 'content': \"Quand l'arbitre a désigné le point de penalty en faveur de Strasbourg à la 83e minute, La Meinau a exulté, croyant déjà à la promesse d'une victoire in extremis contre Caen. Olivier Thual a néanmoins pris le temps de revoir la vidéo de l'action litigieuse : S… [+981 chars]\"})\n",
      "###############################################\n",
      "(3, {'source': {'id': 'lequipe', 'name': \"L'equipe\"}, 'author': \"L'EQUIPE\", 'title': 'D1 féminine : Diani et le PSG tiennent la cadence de l&#039;OL', 'description': \"Après la large victoire de l'OL à Soyaux samedi (6-0), le PSG féminin a parfaitement répondu ce dimanche, en remportant le derby contre le Paris FC à Bondoufle (3-1).\", 'url': 'https://www.lequipe.fr/Football/Actualites/D1-feminine-diani-et-le-psg-tiennent-la-cadence-de-l-ol/966790', 'urlToImage': 'https://medias.lequipe.fr/img-photo-jpg/kadidiatou-diani-a-signe-un-double-salvateur-a-mounic-l-equipe/1500000001061161/0:0,2000:1333-624-416-75/f92fc.jpg', 'publishedAt': '2018-12-09T15:50:00+00:00', 'content': \"Le mano a mano entre Lyon et le PSG en tête de la D1 féminine se poursuit. Après la large victoire de l'OL sur le terrain de Soyaux samedi (6-0), avec un doublé de la Ballon d'Or France Football Ada Hegerberg, le PSG, son dauphin, a assuré ce dimanche, lors d… [+432 chars]\"})\n",
      "###############################################\n",
      "(4, {'source': {'id': 'lequipe', 'name': \"L'equipe\"}, 'author': \"L'EQUIPE\", 'title': 'Pro D2 (14e journée)\\xa0: Oyonnax s&#039;impose à Carcassonne', 'description': \"Oyonnax s'est imposé sur le terrain de Carcassonne (21-13), dimanche en clôture de la 14e journée de Pro D2.\", 'url': 'https://www.lequipe.fr/Rugby/Actualites/Pro-d2-14e-journee-oyonnax-s-impose-a-carcassonne/966788', 'urlToImage': 'https://medias.lequipe.fr/img-photo-jpg/quentin-etienne-a-marque-le-deuxieme-essai-d-oyonnax-face-a-carcassonne-s-thomas-l-equipe/1500000001061160/210:237,1382:1019-624-416-75/54249.jpg', 'publishedAt': '2018-12-09T15:49:00+00:00', 'content': \"Oyonnax était juste devant Carcassonne au commencement de la 14e journée de Pro D2 jeudi. Ce sont les Audois qui recevaient dimanche, mais c'est Oyonnax qui est reparti avec la victoire (21-13) et a creusé l'écart au classement avec son adversaire du jour. A … [+545 chars]\"})\n",
      "###############################################\n",
      "(5, {'source': {'id': 'lequipe', 'name': \"L'equipe\"}, 'author': \"L'EQUIPE\", 'title': 'Grèce : l&#039;Olympiakos freiné sur le terrain de Xanthi', 'description': \"Dauphin du PAOK Salonique, l'Olympiakos a été freiné sur le terrain de Xanthi ce dimanche, en concédant un match nul (1-1).\", 'url': 'https://www.lequipe.fr/Football/Actualites/Grece-l-olympiakos-freine-sur-le-terrain-de-xanthi/966787', 'urlToImage': 'https://medias.lequipe.fr/img-photo-jpg/fortounis-a-delivre-une-passe-decisive-presse-sports/1500000001061158/35:85,1570:1109-624-416-75/cd179.jpg', 'publishedAt': '2018-12-09T15:46:00+00:00', 'content': \"Alors que le PAOK Salonique accueille Larissa un peu plus tard ce dimanche (18h30), le leader du championnat de Grèce a vu son dauphin l'Olympiakos être accroché sur le terrain de Xanthi (1-1). Le Néerlandais Jeffrey Sarpong a ouvert le score pour les locaux … [+262 chars]\"})\n",
      "###############################################\n",
      "(6, {'source': {'id': 'lequipe', 'name': \"L'equipe\"}, 'author': \"L'EQUIPE\", 'title': 'Lille : Rafael Leão et Luiz Araujo titulaires contre Reims', 'description': \"L'entraîneur lillois Christophe Galtier a décidé de titulariser Rafael Leão et Luiz Araujo pour la réception de Reims (17 heures) en Ligue 1.\", 'url': 'https://www.lequipe.fr/Football/Actualites/Lille-rafael-leao-et-luiz-araujo-titulaires-contre-reims/966783', 'urlToImage': 'https://medias.lequipe.fr/img-photo-jpg/rafael-leao-est-titulaire-avec-lille-s-boue-l-equipe/1500000001061148/0:0,2000:1333-624-416-75/4d42a.jpg', 'publishedAt': '2018-12-09T15:34:00+00:00', 'content': \"Trois jours après son succès à Montpellier (1-0), Lille affronte Reims en Ligue 1 (17 heures) avec Rafael Leão à la pointe de l'attaque du 4-2-3-1. Christophe Galtier, l'entraîneur du dauphin du PSG, qui a également titularisé Luiz Araujo, a laissé sur le ban… [+384 chars]\"})\n",
      "###############################################\n",
      "(7, {'source': {'id': 'lequipe', 'name': \"L'equipe\"}, 'author': \"L'EQUIPE\", 'title': 'Euro 2018 : les Bleues tenues en échec par la Suède', 'description': \"Au bout d'un duel étouffant, l'équipe de France a concédé le nul face à la Suède (21-21), dimanche à Nantes, et devra impérativement l'emporter contre la Serbie mercredi pour jouer les demies.\", 'url': 'https://www.lequipe.fr/Handball/Actualites/Euro-2018-les-bleues-tenues-en-echec-par-la-suede/966781', 'urlToImage': 'https://medias.lequipe.fr/img-photo-jpg/la-france-a-bute-sur-la-defense-suedoise-e-garnier-l-equipe/1500000001061147/0:0,2000:1333-624-416-75/0610c.jpg', 'publishedAt': '2018-12-09T15:32:00+00:00', 'content': \"Avec un jour de retard en raison du mouvement des gilets jaunes, l'équipe de France est passée au révélateur suédois ce dimanche, un match piégeux face à une équipe au bord du gouffre et qui n'avait plus rien à perdre. «Ça fait quelques matches qu'on les joue… [+2473 chars]\"})\n",
      "###############################################\n",
      "(8, {'source': {'id': 'lequipe', 'name': \"L'equipe\"}, 'author': \"L'EQUIPE\", 'title': 'Les Rangers ratent l&#039;occasion de revenir sur le Celtic', 'description': 'Les Glasgow Rangers de Steven Gerrard ont été tenus en échec dimanche par Dundee (1-1) et restent à deux points de leurs rivaux du Celtic.', 'url': 'https://www.lequipe.fr/Football/Actualites/Les-rangers-ratent-l-occasion-de-revenir-sur-le-celtic/966780', 'urlToImage': 'https://medias.lequipe.fr/img-photo-jpg/les-rangers-de-gerrard-restent-a-deux-points-du-celtic-f-mons-l-equipe/1500000001061146/0:0,2000:1333-624-416-75/0b5cb.jpg', 'publishedAt': '2018-12-09T15:32:00+00:00', 'content': \"Les Rangers avaient l'occasion dimanche de revenir sur le Celtic. Ils n'ont pas su la saisir contre Dundee (1-1). Menés au score dès la 9e minute sur un but du vétéran Kenny Miller (38 ans), ils ont évolué à onze contre dix pendant plus d'une heure à la suite… [+250 chars]\"})\n",
      "###############################################\n",
      "(9, {'source': {'id': 'lequipe', 'name': \"L'equipe\"}, 'author': \"L'EQUIPE\", 'title': 'Saint-Etienne : 10 jours de repos au moins pour Neven Subotic', 'description': 'Après son traumatisme crânien contre Bordeaux, le défenseur de Saint-Étienne Neven Subotic va être au repos pendant au moins 10 jours.', 'url': 'https://www.lequipe.fr/Football/Actualites/Saint-etienne-10-jours-de-repos-au-moins-pour-neven-subotic/966777', 'urlToImage': 'https://medias.lequipe.fr/img-photo-jpg/neven-subotic-sera-au-repos-10-jours-n-luttiau-l-equipe/1500000001061138/0:0,1995:1330-624-416-75/5e952.jpg', 'publishedAt': '2018-12-09T15:18:00+00:00', 'content': \"Victime d'un traumatisme crânien mercredi à Bordeaux, Neven Subotic devra observer une période de repos de dix jours, selon un communiqué publié sur le site de Saint-Etienne, ce dimanche. Le défenseur central a été ausculté à Clermont-Ferrand par un neurologu… [+599 chars]\"})\n"
     ]
    }
   ],
   "source": [
    "# Et là nous avons des listes dans des dictionnaires c'est du json mais c'est toujours la meme chose\n",
    "# Nous allons decouvrir les informations de la clé articles\n",
    "for elem in enumerate(dic['articles']):\n",
    "    print('###############################################')\n",
    "    print(elem)"
   ]
  },
  {
   "cell_type": "code",
   "execution_count": 128,
   "metadata": {},
   "outputs": [
    {
     "name": "stdout",
     "output_type": "stream",
     "text": [
      " Cle :  source Values :  {'id': 'lequipe', 'name': \"L'equipe\"}\n",
      " Cle :  author Values :  L'EQUIPE\n",
      " Cle :  title Values :  Real Madrid : Gareth Bale met fin à sa disette d&#039;une belle reprise de volée face à Huesca (vidéo)\n",
      " Cle :  description Values :  L'attaquant du Real Madrid Gareth Bale a mis fin ce dimance à sa disette en Liga en ouvrant le score face à Huesca d'une belle reprise.\n",
      " Cle :  url Values :  https://www.lequipe.fr/Football/Actualites/Real-madrid-gareth-bale-met-fin-a-sa-disette-d-une-belle-reprise-de-volee-face-a-huesca-video/966796\n",
      " Cle :  urlToImage Values :  https://medias.lequipe.fr/img-photo-jpg/-oscar-j-barroso-oscar-j-barroso-afp7/1500000001061170/0:0,2000:1333-624-416-75/cb91a.jpg\n",
      " Cle :  publishedAt Values :  2018-12-09T16:02:00+00:00\n",
      " Cle :  content Values :  801 minutes. C'est le temps de jeu qui séparait le dernier but de Gareth Bale en Liga de celui qu'il a inscrit ce dimanche en ouvrant le score sur le terrain d'Huesca. Le Gallois a repris de belle manière un centre d'Odriozola pour mettre fin à sa disette (8e… [+1 chars]\n"
     ]
    }
   ],
   "source": [
    "# Donc s'il on continue, ça nous donne un autre dictionnaire !\n",
    "for elem in dic['articles'][0].keys():\n",
    "    print(' Cle : ',elem,'Values : ',dic['articles'][0][elem])"
   ]
  },
  {
   "cell_type": "markdown",
   "metadata": {},
   "source": [
    "### Faites un script qui permet de prendre les details des dix dernieres news de l'équipe ou d'un autre sites. Rangez les dans un beau fichier csv ou excel"
   ]
  },
  {
   "cell_type": "code",
   "execution_count": null,
   "metadata": {},
   "outputs": [],
   "source": []
  }
 ],
 "metadata": {
  "kernelspec": {
   "display_name": "Python 3",
   "language": "python",
   "name": "python3"
  },
  "language_info": {
   "codemirror_mode": {
    "name": "ipython",
    "version": 3
   },
   "file_extension": ".py",
   "mimetype": "text/x-python",
   "name": "python",
   "nbconvert_exporter": "python",
   "pygments_lexer": "ipython3",
   "version": "3.7.1"
  }
 },
 "nbformat": 4,
 "nbformat_minor": 2
}
